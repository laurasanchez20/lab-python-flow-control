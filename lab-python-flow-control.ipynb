{
 "cells": [
  {
   "cell_type": "markdown",
   "id": "d3bfc191-8885-42ee-b0a0-bbab867c6f9f",
   "metadata": {
    "tags": []
   },
   "source": [
    "# Lab | Flow Control"
   ]
  },
  {
   "cell_type": "markdown",
   "id": "3851fcd1-cf98-4653-9c89-e003b7ec9400",
   "metadata": {},
   "source": [
    "## Exercise: Managing Customer Orders Optimized\n",
    "\n",
    "In the last lab, you were starting an online store that sells various products. To ensure smooth operations, you developed a program that manages customer orders and inventory.\n",
    "\n",
    "You did so without using flow control. Let's go a step further and improve this code.\n",
    "\n",
    "Follow the steps below to complete the exercise:\n",
    "\n",
    "1. Look at your code from the lab data structures, and improve repeated code with loops.\n",
    "\n",
    "2. Instead of asking the user to input the name of three products that a customer wants to order, do the following:\n",
    "    \n",
    "    a. Prompt the user to enter the name of a product that a customer wants to order.\n",
    "    \n",
    "    b. Add the product name to the \"customer_orders\" set.\n",
    "    \n",
    "    c. Ask the user if they want to add another product (yes/no).\n",
    "    \n",
    "    d. Continue the loop until the user does not want to add another product.\n",
    "\n",
    "3. Instead of updating the inventory by subtracting 1 from the quantity of each product, only do it for  the products that were ordered (those in \"customer_orders\")."
   ]
  },
  {
   "cell_type": "code",
   "execution_count": 9,
   "id": "f5758c86-53de-4e88-a6df-b45d14402fdd",
   "metadata": {},
   "outputs": [
    {
     "name": "stdin",
     "output_type": "stream",
     "text": [
      "Enter the quantity of t-shirt available:  3\n",
      "Enter the quantity of mug available:  3\n",
      "Enter the quantity of hat available:  3\n",
      "Enter the quantity of book available:  3\n",
      "Enter the quantity of keychain available:  3\n",
      "\n",
      "Enter a product the customer wants to order:  hat\n",
      "Do you want to add another product? (yes/no):  no\n"
     ]
    },
    {
     "name": "stdout",
     "output_type": "stream",
     "text": [
      "\n",
      "Customer ordered: {'hat'}\n",
      "\n",
      "Order Statistics:\n",
      "Total Products Ordered: 1\n",
      "Percentage of Products Ordered: 20.00%\n",
      "\n",
      "Updated Inventory:\n",
      "t-shirt: 3\n",
      "mug: 3\n",
      "hat: 2\n",
      "book: 3\n",
      "keychain: 3\n"
     ]
    }
   ],
   "source": [
    "# 1. Define the products list\n",
    "products = [\"t-shirt\", \"mug\", \"hat\", \"book\", \"keychain\"]\n",
    "\n",
    "# 2. Create an empty inventory dictionary\n",
    "inventory = {}\n",
    "\n",
    "# 3. Ask for inventory quantities\n",
    "for product in products:\n",
    "    quantity = input(f\"Enter the quantity of {product} available: \")\n",
    "    inventory[product] = int(quantity)\n",
    "\n",
    "# 4. Create an empty set for customer orders\n",
    "customer_orders = set()\n",
    "\n",
    "# 5. Ask for customer order\n",
    "while True:\n",
    "    order = input(\"\\nEnter a product the customer wants to order: \")\n",
    "    if order in products:\n",
    "        customer_orders.add(order)\n",
    "    else:\n",
    "        print(\"Invalid product. Please choose from the available products.\")\n",
    "    if customer_orders:\n",
    "        add_more = input(\"Do you want to add another product? (yes/no): \")\n",
    "        if add_more != 'yes':\n",
    "            break\n",
    "\n",
    "# 6. Print the customer orders\n",
    "print(\"\\nCustomer ordered:\", customer_orders)\n",
    "\n",
    "# 7. Calculate order statistics\n",
    "total_products_ordered = len(customer_orders)\n",
    "percentage_ordered = (total_products_ordered / len(products)) * 100\n",
    "order_status = (total_products_ordered, percentage_ordered)\n",
    "\n",
    "# 8. Print order statistics\n",
    "print(\"\\nOrder Statistics:\")\n",
    "print(f\"Total Products Ordered: {order_status[0]}\")\n",
    "print(f\"Percentage of Products Ordered: {order_status[1]:.2f}%\")\n",
    "\n",
    "# 9. Update inventory only for ordered products\n",
    "for product in customer_orders:\n",
    "    if inventory[product] > 0:\n",
    "        inventory[product] -= 1\n",
    "    else:\n",
    "        print(f\"Warning: {product} is out of stock!\")\n",
    "\n",
    "# 10. Print updated inventory\n",
    "print(\"\\nUpdated Inventory:\")\n",
    "for product, quantity in inventory.items():\n",
    "    print(f\"{product}: {quantity}\")"
   ]
  }
 ],
 "metadata": {
  "kernelspec": {
   "display_name": "Python 3 (ipykernel)",
   "language": "python",
   "name": "python3"
  },
  "language_info": {
   "codemirror_mode": {
    "name": "ipython",
    "version": 3
   },
   "file_extension": ".py",
   "mimetype": "text/x-python",
   "name": "python",
   "nbconvert_exporter": "python",
   "pygments_lexer": "ipython3",
   "version": "3.12.4"
  }
 },
 "nbformat": 4,
 "nbformat_minor": 5
}
